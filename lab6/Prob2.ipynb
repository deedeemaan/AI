{
 "cells": [
  {
   "cell_type": "markdown",
   "metadata": {},
   "source": [
    "Problema 2 cu tool"
   ]
  },
  {
   "cell_type": "code",
   "execution_count": 2,
   "metadata": {},
   "outputs": [
    {
     "name": "stdout",
     "output_type": "stream",
     "text": [
      "The tissue is classified as: Malignant\n"
     ]
    }
   ],
   "source": [
    "import numpy as np\n",
    "from sklearn.datasets import load_breast_cancer\n",
    "from sklearn.model_selection import train_test_split\n",
    "from sklearn.linear_model import LogisticRegression\n",
    "\n",
    "# Încărcați setul de date Wisconsin Breast Cancer\n",
    "data = load_breast_cancer()\n",
    "X, y = data.data, data.target\n",
    "\n",
    "# Alegeți doar caracteristicile de interes: raza și textura\n",
    "X = X[:, [0, 3]]  # Indicii coloanelor pentru raza și textura\n",
    "\n",
    "# Împărțiți datele în set de antrenare și set de testare\n",
    "X_train, X_test, y_train, y_test = train_test_split(X, y, test_size=0.2, random_state=42)\n",
    "\n",
    "# Antrenați modelul pentru clasificarea țesutului benign\n",
    "benign_model = LogisticRegression()\n",
    "benign_model.fit(X_train, y_train == 0)  # y_train == 0 pentru țesut benign\n",
    "\n",
    "# Antrenați modelul pentru clasificarea țesutului malign\n",
    "malignant_model = LogisticRegression()\n",
    "malignant_model.fit(X_train, y_train == 1)  # y_train == 1 pentru țesut malign\n",
    "\n",
    "# Definiți funcția de predicție pentru a prezice clasificarea țesutului\n",
    "def predict_tissue_classification(radius, texture):\n",
    "    # Creează un vector cu caracteristicile noii ecografii\n",
    "    new_data = np.array([[radius, texture]])\n",
    "    # Prezice clasificarea țesutului benign\n",
    "    benign_prediction = benign_model.predict(new_data)[0]\n",
    "    # Prezice clasificarea țesutului malign\n",
    "    malignant_prediction = malignant_model.predict(new_data)[0]\n",
    "    # Returnează rezultatul în funcție de rezultatele ambelor modele\n",
    "    if benign_prediction:\n",
    "        return \"Benign\"\n",
    "    elif malignant_prediction:\n",
    "        return \"Malignant\"\n",
    "    else:\n",
    "        return \"Unknown\"\n",
    "\n",
    "# Preziceți clasificarea țesutului pentru o nouă ecografie\n",
    "radius_new = 18\n",
    "texture_new = 10\n",
    "classification = predict_tissue_classification(radius_new, texture_new)\n",
    "print(f\"The tissue is classified as: {classification}\")\n"
   ]
  },
  {
   "cell_type": "markdown",
   "metadata": {},
   "source": [
    "Problema 2 fara tool"
   ]
  },
  {
   "cell_type": "code",
   "execution_count": 8,
   "metadata": {},
   "outputs": [
    {
     "name": "stdout",
     "output_type": "stream",
     "text": [
      "The tissue is classified as: Maligna\n"
     ]
    }
   ],
   "source": [
    "def sigmoid(z):\n",
    "    if z >= 0:\n",
    "        return 1 / (1 + pow(2.718281828459045, -z))\n",
    "    else:\n",
    "        return pow(2.718281828459045, z) / (1 + pow(2.718281828459045, z))\n",
    "\n",
    "\n",
    "def train_logistic_regression(X, y, learning_rate=0.01, num_iterations=1000):\n",
    "    m, n = len(X), len(X[0])\n",
    "    theta = [0] * n\n",
    "    \n",
    "    for _ in range(num_iterations):\n",
    "        z = [sum(X[i][j] * theta[j] for j in range(n)) for i in range(m)]\n",
    "        h = [sigmoid(score) for score in z]\n",
    "        error = [h[i] - y[i] for i in range(m)]\n",
    "        gradient = [sum(error[i] * X[i][j] for i in range(m)) / m for j in range(n)]\n",
    "        for j in range(n):\n",
    "            theta[j] -= learning_rate * gradient[j]\n",
    "        \n",
    "    return theta\n",
    "\n",
    "\n",
    "def predict_tissue_classification(radius, texture, theta):\n",
    "    z = radius * theta[0] + texture * theta[1] + theta[2]\n",
    "    h = sigmoid(z)\n",
    "    if h >= 0.5:\n",
    "        return \"Benigna\"\n",
    "    else:\n",
    "        return \"Maligna\"\n",
    "\n",
    "\n",
    "X_train, X_test, y_train, y_test = train_test_split(X, y, test_size=0.2, random_state=42)\n",
    "\n",
    "X_train_bias = [[radius, texture, 1] for radius, texture in X_train]\n",
    "theta_benign = train_logistic_regression(X_train_bias, [1 if y == 0 else 0 for y in y_train])\n",
    "theta_malignant = train_logistic_regression(X_train_bias, [1 if y == 1 else 0 for y in y_train])\n",
    "\n",
    "radius_new = 18\n",
    "texture_new = 10\n",
    "classification = predict_tissue_classification(radius_new, texture_new, theta_benign)\n",
    "print(f\"The tissue is classified as: {classification}\")\n"
   ]
  }
 ],
 "metadata": {
  "kernelspec": {
   "display_name": "Python 3",
   "language": "python",
   "name": "python3"
  },
  "language_info": {
   "codemirror_mode": {
    "name": "ipython",
    "version": 3
   },
   "file_extension": ".py",
   "mimetype": "text/x-python",
   "name": "python",
   "nbconvert_exporter": "python",
   "pygments_lexer": "ipython3",
   "version": "3.10.13"
  }
 },
 "nbformat": 4,
 "nbformat_minor": 2
}
