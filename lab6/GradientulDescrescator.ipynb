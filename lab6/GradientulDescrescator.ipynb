{
 "cells": [
  {
   "cell_type": "code",
   "execution_count": 1,
   "metadata": {
    "ExecuteTime": {
     "end_time": "2024-04-07T20:02:52.417730Z",
     "start_time": "2024-04-07T20:02:51.783189Z"
    },
    "collapsed": false
   },
   "outputs": [],
   "source": [
    "import random\n",
    "\n",
    "\n",
    "class BatchGDRegression:\n",
    "    def __init__(self):\n",
    "        self.intercept_ = 0.0\n",
    "        self.coef_ = []\n",
    "\n",
    "    # simple batch GD\n",
    "    def fit(self, x, y, learningRate=0.0003, noEpochs=1000, batchSize=10):\n",
    "        self.coef_ = [0.0 for _ in range(len(x[0]) + 1)]  # w0,w1,w2\n",
    "        noBatches = len(x) // batchSize\n",
    "\n",
    "        for _ in range(noEpochs): # for each epoch\n",
    "            indexes = random.sample(range(len(x)), len(x))\n",
    "            x_shuffle = [x[i] for i in indexes]\n",
    "            y_shuffle = [y[i] for i in indexes]\n",
    "            for i in range(noBatches):\n",
    "                start = i * batchSize\n",
    "                end = (i + 1) * batchSize\n",
    "\n",
    "                batch_x = [x_shuffle[i] for i in range(start, end)]  # features for each batch\n",
    "                batch_y = [y_shuffle[i] for i in range(start, end)]  # true y for each feature\n",
    "\n",
    "                ycomputed = [self.eval(xi) for xi in batch_x]  # predicted y for each feature\n",
    "                errors = [ycomputed[i] - batch_y[i] for i in range(len(batch_x))]  # error for each feature (gdp,freedom)\n",
    "\n",
    "                for j in range(0, len(x[0])):  # update coefficients iterating through for each feature\n",
    "                    grad = sum(\n",
    "                        [errors[i] * batch_x[i][j] for i in range(len(batch_y))])  # mean the gradient for each feature\n",
    "                    self.coef_[j] -= learningRate * grad / len(batch_y)\n",
    "\n",
    "                self.coef_[-1] -= learningRate * sum(errors) / len(batch_y)\n",
    "\n",
    "        self.intercept_ = self.coef_[-1]\n",
    "        self.coef_ = self.coef_[:-1]\n",
    "\n",
    "    def eval(self, xi):\n",
    "        yi = self.coef_[-1]\n",
    "        for j in range(len(xi)):\n",
    "            yi += self.coef_[j] * xi[j]\n",
    "        return yi\n",
    "\n",
    "    def predict(self, x):\n",
    "        yComputed = [self.eval(xi) for xi in x]\n",
    "        return yComputed"
   ]
  }
 ],
 "metadata": {
  "colab": {
   "authorship_tag": "ABX9TyN8d1hdXIZb75VP5RivfIZV",
   "provenance": []
  },
  "kernelspec": {
   "display_name": "Python 3 (ipykernel)",
   "language": "python",
   "name": "python3"
  },
  "language_info": {
   "codemirror_mode": {
    "name": "ipython",
    "version": 3
   },
   "file_extension": ".py",
   "mimetype": "text/x-python",
   "name": "python",
   "nbconvert_exporter": "python",
   "pygments_lexer": "ipython3",
   "version": "3.10.13"
  }
 },
 "nbformat": 4,
 "nbformat_minor": 0
}
