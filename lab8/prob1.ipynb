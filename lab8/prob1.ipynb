{
 "cells": [
  {
   "cell_type": "code",
   "execution_count": 1,
   "metadata": {},
   "outputs": [
    {
     "name": "stdout",
     "output_type": "stream",
     "text": [
      "Cere-mi cuvintul meu dentii - \"Din\n",
      "Eu sunt luceafarul de luceafarul de\n",
      "duce. Il vede mini, Astfel dorinta-i\n",
      "s-om fugi departe - \"Tu-mi cei\n"
     ]
    }
   ],
   "source": [
    "import random\n",
    "\n",
    "def read_text(filename):\n",
    "    with open(filename, 'r', encoding='utf-8') as file:\n",
    "        text = file.read()\n",
    "    return text\n",
    "\n",
    "def build_markov_chain(text, order=2):\n",
    "    words = text.split()\n",
    "    markov_chain = {}\n",
    "    for i in range(len(words)-order):\n",
    "        prefix = tuple(words[i:i+order])\n",
    "        suffix = words[i+order]\n",
    "        if prefix in markov_chain:\n",
    "            markov_chain[prefix].append(suffix)\n",
    "        else:\n",
    "            markov_chain[prefix] = [suffix]\n",
    "    return markov_chain\n",
    "\n",
    "def generate_text(markov_chain, verses=4, words_per_verse=6, seed=None):\n",
    "    if seed:\n",
    "        random.seed(seed)\n",
    "    text = []\n",
    "\n",
    "    for _ in range(verses):\n",
    "        current_state = random.choice(list(markov_chain.keys()))\n",
    "        verse = list(current_state)\n",
    "\n",
    "        for _ in range(words_per_verse - len(current_state)):\n",
    "            if current_state in markov_chain:\n",
    "                next_word = random.choice(markov_chain[current_state])\n",
    "                verse.append(next_word)\n",
    "                current_state = tuple(verse[-len(current_state):])\n",
    "            else:\n",
    "                break\n",
    "\n",
    "        text.append(' '.join(verse))\n",
    "\n",
    "    return '\\n'.join(text)\n",
    "\n",
    "text = read_text(\"poezii.txt\")\n",
    "\n",
    "markov_chain = build_markov_chain(text, order=1)\n",
    "\n",
    "verses = 4\n",
    "words_per_verse = 6\n",
    "generated_stanza = generate_text(markov_chain, verses, words_per_verse)\n",
    "\n",
    "print(generated_stanza)\n"
   ]
  }
 ],
 "metadata": {
  "kernelspec": {
   "display_name": "Python 3",
   "language": "python",
   "name": "python3"
  },
  "language_info": {
   "codemirror_mode": {
    "name": "ipython",
    "version": 3
   },
   "file_extension": ".py",
   "mimetype": "text/x-python",
   "name": "python",
   "nbconvert_exporter": "python",
   "pygments_lexer": "ipython3",
   "version": "3.10.13"
  }
 },
 "nbformat": 4,
 "nbformat_minor": 2
}
