{
 "cells": [
  {
   "cell_type": "code",
   "execution_count": 40,
   "metadata": {},
   "outputs": [
    {
     "name": "stdout",
     "output_type": "stream",
     "text": [
      "Non other wise I me nevere\n",
      "Jack Denver died on Talbragar when\n",
      "And thus he wan the schepes\n",
      "And Saltbush Bill, on the fruit\n",
      "To whom thus EVE with shame\n",
      "There are two white steeds; but\n",
      "Near old Antandros, and at the\n",
      "Love so well, Dust, and a\n",
      ". . . As a trophy\n",
      "\n",
      "Emoția fiecărui vers:\n",
      "Versul 1:\n",
      "Polaritate: Pozitivă\n",
      "Versul 2:\n",
      "Polaritate: Neutru\n",
      "Versul 3:\n",
      "Polaritate: Negativă\n",
      "Versul 4:\n",
      "Polaritate: Neutru\n",
      "Versul 5:\n",
      "Polaritate: Neutru\n",
      "Versul 6:\n",
      "Polaritate: Neutru\n",
      "Versul 7:\n",
      "Polaritate: Pozitivă\n",
      "Versul 8:\n",
      "Polaritate: Pozitivă\n",
      "Versul 9:\n",
      "Polaritate: Neutru\n"
     ]
    }
   ],
   "source": [
    "from datasets import load_dataset\n",
    "import markovify\n",
    "from textblob import TextBlob\n",
    "\n",
    "dataset = load_dataset(\"biglam/gutenberg-poetry-corpus\")\n",
    "\n",
    "poems = dataset['train']['line'][:100000]\n",
    "text = ' '.join(poems)\n",
    "\n",
    "text_model = markovify.Text(text)\n",
    "\n",
    "words_per_line = 6\n",
    "\n",
    "poetry_stanza = \"\"\n",
    "polarities = []\n",
    "while len(poetry_stanza.split('\\n')) < 10: \n",
    "    line = text_model.make_short_sentence(max_chars=200, min_chars=30, tries=100)\n",
    "    if line is not None:\n",
    "        line = ' '.join(line.split()[:words_per_line])\n",
    "        poetry_stanza += line + \"\\n\"\n",
    "        sentiment = TextBlob(line).sentiment\n",
    "        polarities.append(sentiment.polarity)\n",
    "\n",
    "print(poetry_stanza)\n",
    "\n",
    "print(\"Emoția fiecărui vers:\")\n",
    "for i, polarity in enumerate(polarities):\n",
    "    print(f\"Versul {i + 1}:\")\n",
    "    if polarity > 0:\n",
    "        print(\"Polaritate: Pozitivă\")\n",
    "    elif polarity < 0:\n",
    "        print(\"Polaritate: Negativă\")\n",
    "    else:\n",
    "        print(\"Polaritate: Neutru\")"
   ]
  },
  {
   "cell_type": "code",
   "execution_count": 41,
   "metadata": {},
   "outputs": [],
   "source": [
    "import nltk \n",
    "from nltk.corpus import wordnet \n",
    "        \n",
    "def find_synonym(word):\n",
    "    for syn in wordnet.synsets(word):\n",
    "        for lemma in syn.lemmas():\n",
    "            synonym = lemma.name()\n",
    "            if synonym != word:\n",
    "                return synonym\n",
    "    return None\n",
    "\n",
    "# print(find_synonym(\"good\"))"
   ]
  },
  {
   "cell_type": "code",
   "execution_count": 42,
   "metadata": {},
   "outputs": [
    {
     "name": "stdout",
     "output_type": "stream",
     "text": [
      "Non early wise I me nevere\n",
      "Jack Denver died along Talbragar when\n",
      "And thus he wan the schepes\n",
      "And saltbush Bill, along the fruit\n",
      "To whom thus EVE with disgrace\n",
      "There are 2 White steeds; but\n",
      "Near old Antandros, and at the\n",
      "love so well, Dust, and angstrom\n",
      ". . . arsenic angstrom prize\n",
      "\n"
     ]
    },
    {
     "name": "stderr",
     "output_type": "stream",
     "text": [
      "[nltk_data] Downloading package wordnet to\n",
      "[nltk_data]     /home/codespace/nltk_data...\n",
      "[nltk_data]   Package wordnet is already up-to-date!\n"
     ]
    }
   ],
   "source": [
    "import random\n",
    "import nltk\n",
    "nltk.download('wordnet')\n",
    "\n",
    "def replace_with_synonym(poem, synonym_function):\n",
    "    verses = poem.split('\\n')\n",
    "    \n",
    "    new_poem = []\n",
    "    for verse in verses:\n",
    "        new_verse = []\n",
    "        words = verse.split()\n",
    "        for word in words:\n",
    "            if random.random() < 0.5: \n",
    "                new_word = synonym_function(word)\n",
    "                if new_word is not None:  \n",
    "                    new_verse.append(new_word)\n",
    "                else:\n",
    "                    new_verse.append(word)\n",
    "            else:\n",
    "                new_verse.append(word)\n",
    "        new_poem.append(' '.join(new_verse))\n",
    "    \n",
    "    return '\\n'.join(new_poem)\n",
    "\n",
    "\n",
    "\n",
    "poem_with_synonyms = replace_with_synonym(poetry_stanza, find_synonym)\n",
    "print(poem_with_synonyms)\n",
    "\n",
    "# Non other wise I me nevere\n",
    "# Jack Denver died on Talbragar when\n",
    "# And thus he wan the schepes\n",
    "# And Saltbush Bill, on the fruit\n",
    "# To whom thus EVE with shame\n",
    "# There are two white steeds; but\n",
    "# Near old Antandros, and at the\n",
    "# Love so well, Dust, and a\n",
    "# . . . As a trophy\n"
   ]
  },
  {
   "cell_type": "code",
   "execution_count": 46,
   "metadata": {},
   "outputs": [
    {
     "name": "stdout",
     "output_type": "stream",
     "text": [
      "Scorul BLEU pentru poezia generată: 0.4650784646988073\n"
     ]
    },
    {
     "name": "stderr",
     "output_type": "stream",
     "text": [
      "[nltk_data] Downloading package wordnet to\n",
      "[nltk_data]     /home/codespace/nltk_data...\n",
      "[nltk_data]   Package wordnet is already up-to-date!\n",
      "[nltk_data] Downloading package punkt to /home/codespace/nltk_data...\n",
      "[nltk_data]   Package punkt is already up-to-date!\n",
      "/home/codespace/.python/current/lib/python3.10/site-packages/nltk/translate/bleu_score.py:552: UserWarning: \n",
      "The hypothesis contains 0 counts of 4-gram overlaps.\n",
      "Therefore the BLEU score evaluates to 0, independently of\n",
      "how many N-gram overlaps of lower order it contains.\n",
      "Consider using lower n-gram order or use SmoothingFunction()\n",
      "  warnings.warn(_msg)\n"
     ]
    }
   ],
   "source": [
    "import nltk\n",
    "\n",
    "nltk.download('wordnet')\n",
    "nltk.download('punkt')\n",
    "\n",
    "def calculate_bleu_score(reference_poem, generated_poem):\n",
    "    reference_verses = reference_poem.split('\\n')\n",
    "    generated_verses = generated_poem.split('\\n')\n",
    "    \n",
    "    bleu_scores = []\n",
    "    for reference_verse, generated_verse in zip(reference_verses, generated_verses):\n",
    "        reference_tokens = nltk.word_tokenize(reference_verse.lower())\n",
    "        generated_tokens = nltk.word_tokenize(generated_verse.lower())\n",
    "        bleu_scores.append(nltk.translate.bleu_score.sentence_bleu([reference_tokens], generated_tokens))\n",
    "    \n",
    "    avg_bleu_score = sum(bleu_scores) / len(bleu_scores)\n",
    "    \n",
    "    return avg_bleu_score\n",
    "\n",
    "reference_poem = \"\"\"\n",
    "Non other wise I me nevere\n",
    "Jack Denver died on Talbragar when\n",
    "And thus he wan the schepes\n",
    "And Saltbush Bill, on the fruit\n",
    "To whom thus EVE with shame\n",
    "There are two white steeds; but\n",
    "Near old Antandros, and at the\n",
    "Love so well, Dust, and a\n",
    ". . . As a trophy\n",
    "\"\"\"\n",
    "\n",
    "generated_poem = \"\"\"\n",
    "Non early wise I me nevere\n",
    "Jack Denver died along Talbragar when\n",
    "And thus he wan the schepes\n",
    "And saltbush Bill, along the fruit\n",
    "To whom thus EVE with disgrace\n",
    "There are 2 White steeds; but\n",
    "Near old Antandros, and at the\n",
    "love so well, Dust, and angstrom\n",
    ". . . arsenic angstrom prize\n",
    "\"\"\"\n",
    "\n",
    "bleu_score = calculate_bleu_score(reference_poem, generated_poem)\n",
    "\n",
    "print(\"Scorul BLEU pentru poezia generată:\", bleu_score)\n"
   ]
  }
 ],
 "metadata": {
  "kernelspec": {
   "display_name": "Python 3",
   "language": "python",
   "name": "python3"
  },
  "language_info": {
   "codemirror_mode": {
    "name": "ipython",
    "version": 3
   },
   "file_extension": ".py",
   "mimetype": "text/x-python",
   "name": "python",
   "nbconvert_exporter": "python",
   "pygments_lexer": "ipython3",
   "version": "3.10.13"
  }
 },
 "nbformat": 4,
 "nbformat_minor": 2
}
