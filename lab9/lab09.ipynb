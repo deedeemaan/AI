{
 "cells": [
  {
   "cell_type": "code",
   "execution_count": 2,
   "id": "initial_id",
   "metadata": {
    "ExecuteTime": {
     "end_time": "2024-05-17T09:51:25.908723500Z",
     "start_time": "2024-05-17T09:51:25.843421200Z"
    }
   },
   "outputs": [],
   "source": [
    "import pandas as pd\n",
    "import numpy as np\n",
    "from numpy.random import choice\n",
    "from math import sqrt\n",
    "from sklearn.feature_extraction.text import CountVectorizer\n",
    "from sklearn.feature_extraction.text import TfidfVectorizer\n",
    "# from gensim.models import Word2Vec\n",
    "from gensim.utils import simple_preprocess\n"
   ]
  },
  {
   "cell_type": "code",
   "execution_count": 4,
   "id": "7d34f18fb1888777",
   "metadata": {
    "ExecuteTime": {
     "end_time": "2024-05-17T09:51:25.939554400Z",
     "start_time": "2024-05-17T09:51:25.860701900Z"
    },
    "collapsed": false
   },
   "outputs": [],
   "source": [
    "df = pd.read_csv('reviews_mixed.csv')\n",
    "\n",
    "def get_training_and_validation_datas(df: pd.DataFrame, training_size = 0.8):\n",
    "    data_size = df.shape[0]\n",
    "    indexes = [i for i in range(data_size)]\n",
    "    training_index = np.random.choice(indexes,int(data_size*training_size))\n",
    "    validation_index = [i for i in range(data_size) if not i in training_index]\n",
    "    training_input = [df['Text'].iloc[index] for index in training_index]\n",
    "    training_output = [df['Sentiment'].iloc[index] for index in training_index]\n",
    "    validation_input = [df['Text'].iloc[index] for index in validation_index]\n",
    "    validation_output = [df['Sentiment'].iloc[index] for index in validation_index]\n",
    "    return training_input, training_output, validation_input, validation_output\n",
    "\n",
    "training_input,training_output,validation_input, validation_output = get_training_and_validation_datas(df)"
   ]
  },
  {
   "cell_type": "code",
   "execution_count": 5,
   "id": "2d7f2c44748a03a2",
   "metadata": {
    "ExecuteTime": {
     "end_time": "2024-05-17T09:51:25.945561800Z",
     "start_time": "2024-05-17T09:51:25.896936200Z"
    },
    "collapsed": false
   },
   "outputs": [],
   "source": [
    "vectorizer = CountVectorizer()\n",
    "training_embeddings = vectorizer.fit_transform(training_input).toarray()\n",
    "validation_embeddings = vectorizer.transform(validation_input).toarray()"
   ]
  },
  {
   "cell_type": "code",
   "execution_count": 6,
   "id": "9dc69b81a7d357aa",
   "metadata": {
    "ExecuteTime": {
     "end_time": "2024-05-17T09:51:25.946592300Z",
     "start_time": "2024-05-17T09:51:25.926001300Z"
    },
    "collapsed": false
   },
   "outputs": [],
   "source": [
    "class KMeans:\n",
    "    def __init__(self, n_clusters=4, max_iter=300, tolerance=0.04):\n",
    "        self.n_clusters = n_clusters\n",
    "        self.max_iter = max_iter\n",
    "        self.tolerance = tolerance\n",
    "    \n",
    "    def init_centroids(self, X):\n",
    "        np.random.seed(42)\n",
    "        initial_indices = np.random.choice(X.shape[0], self.n_clusters, replace=False)\n",
    "        return X[initial_indices]\n",
    "        \n",
    "    def euclidean(self, X):\n",
    "        distances = np.zeros((X.shape[0], self.n_clusters))\n",
    "        for i in range(X.shape[0]):\n",
    "            for j in range(self.n_clusters):\n",
    "                distances[i, j] = np.linalg.norm(X[i] - self.centroids[j])\n",
    "        return distances\n",
    "       \n",
    "    def update_centroids(self, X):\n",
    "        new_centroids = np.zeros((self.n_clusters, X.shape[1]))\n",
    "        for k in range(self.n_clusters):\n",
    "            cluster_indexes = X[self.indexes == k]\n",
    "            if len(cluster_indexes) > 0:\n",
    "                new_centroids[k] = cluster_indexes.mean(axis=0)\n",
    "        return new_centroids\n",
    "       \n",
    "    def is_converged(self, old_centroids, new_centroids):\n",
    "        distances = np.linalg.norm(new_centroids - old_centroids, axis=1)\n",
    "        return np.all(distances <= self.tolerance)\n",
    "\n",
    "    def train(self, X_train):\n",
    "        self.centroids = self.init_centroids(X_train)\n",
    "        for _ in range(self.max_iter):\n",
    "            distances = self.euclidean(X_train)\n",
    "            self.indexes = np.argmin(distances, axis=1)\n",
    "            new_centroids = self.update_centroids(X_train)\n",
    "            if self.is_converged(self.centroids, new_centroids):\n",
    "                break\n",
    "            self.centroids = new_centroids\n",
    "            \n",
    "    def predict(self, X):\n",
    "        distances = self.euclidean(X)\n",
    "        return np.argmin(distances, axis=1)\n"
   ]
  },
  {
   "cell_type": "code",
   "execution_count": 7,
   "id": "1fa0b46ed4fa19fc",
   "metadata": {
    "ExecuteTime": {
     "end_time": "2024-05-17T09:51:25.987222300Z",
     "start_time": "2024-05-17T09:51:25.941743500Z"
    },
    "collapsed": false
   },
   "outputs": [],
   "source": [
    "kmeans = KMeans(n_clusters=2)\n",
    "kmeans.train(training_embeddings)"
   ]
  },
  {
   "cell_type": "code",
   "execution_count": 8,
   "id": "14c9f86b3f3a78c",
   "metadata": {
    "ExecuteTime": {
     "end_time": "2024-05-17T09:51:26.018667100Z",
     "start_time": "2024-05-17T09:51:25.980992400Z"
    },
    "collapsed": false
   },
   "outputs": [
    {
     "name": "stdout",
     "output_type": "stream",
     "text": [
      "Accuracy: 65.93406593406593%\n"
     ]
    }
   ],
   "source": [
    "from sklearn.metrics import accuracy_score\n",
    "\n",
    "label_names = [name for name in set(training_output)]\n",
    "validation_indexes = kmeans.predict(validation_embeddings)\n",
    "computed_outputs = [label_names[value] for value in validation_indexes]\n",
    "\n",
    "accuracy = accuracy_score(validation_output, computed_outputs)\n",
    "print(f'Accuracy: {accuracy*100}%')\n"
   ]
  }
 ],
 "metadata": {
  "kernelspec": {
   "display_name": "Python 3 (ipykernel)",
   "language": "python",
   "name": "python3"
  },
  "language_info": {
   "codemirror_mode": {
    "name": "ipython",
    "version": 3
   },
   "file_extension": ".py",
   "mimetype": "text/x-python",
   "name": "python",
   "nbconvert_exporter": "python",
   "pygments_lexer": "ipython3",
   "version": "3.10.13"
  }
 },
 "nbformat": 4,
 "nbformat_minor": 5
}
