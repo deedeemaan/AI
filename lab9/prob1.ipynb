{
 "cells": [
  {
   "cell_type": "code",
   "execution_count": 1,
   "metadata": {},
   "outputs": [
    {
     "name": "stdout",
     "output_type": "stream",
     "text": [
      "Sentimentul transmis de mesajul dat este: positive\n"
     ]
    }
   ],
   "source": [
    "from sklearn.model_selection import train_test_split\n",
    "from sklearn.feature_extraction.text import CountVectorizer\n",
    "from sklearn.naive_bayes import MultinomialNB\n",
    "\n",
    "data = [\n",
    "    (\"By choosing a bike over a car, I’m reducing my environmental footprint.\", \"positive\"),\n",
    "    (\"Cycling promotes eco-friendly transportation, and I’m proud to be part of that movement.\", \"positive\"),\n",
    "    \n",
    "]\n",
    "\n",
    "texts = [text for text, _ in data]\n",
    "labels = [label for _, label in data]\n",
    "\n",
    "# Splităm setul de date în set de date de antrenare și de testare\n",
    "train_texts, test_texts, train_labels, test_labels = train_test_split(texts, labels, test_size=0.2, random_state=42)\n",
    "\n",
    "# Creăm un vectorizer pentru a transforma textele într-o reprezentare numerică\n",
    "vectorizer = CountVectorizer()\n",
    "X_train = vectorizer.fit_transform(train_texts)\n",
    "\n",
    "# Antrenăm un model Naive Bayes\n",
    "classifier = MultinomialNB()\n",
    "classifier.fit(X_train, train_labels)\n",
    "\n",
    "# Transformăm mesajul dat în reprezentare numerică folosind același vectorizer\n",
    "X_message = vectorizer.transform([\"By choosing a bike over a car, I’m reducing my environmental footprint.\"])\n",
    "\n",
    "# Folosim modelul pentru a clasifica mesajul\n",
    "predicted_sentiment = classifier.predict(X_message)\n",
    "\n",
    "# Afișăm rezultatul\n",
    "print(\"Sentimentul transmis de mesajul dat este:\", predicted_sentiment[0])\n"
   ]
  }
 ],
 "metadata": {
  "kernelspec": {
   "display_name": "Python 3",
   "language": "python",
   "name": "python3"
  },
  "language_info": {
   "codemirror_mode": {
    "name": "ipython",
    "version": 3
   },
   "file_extension": ".py",
   "mimetype": "text/x-python",
   "name": "python",
   "nbconvert_exporter": "python",
   "pygments_lexer": "ipython3",
   "version": "3.10.13"
  }
 },
 "nbformat": 4,
 "nbformat_minor": 2
}
